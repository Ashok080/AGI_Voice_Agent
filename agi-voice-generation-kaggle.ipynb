{
 "cells": [
  {
   "cell_type": "code",
   "execution_count": null,
   "id": "b84ea0f1",
   "metadata": {},
   "outputs": [],
   "source": [
    "\n",
    "!pip install elevenlabs\n"
   ]
  },
  {
   "cell_type": "code",
   "execution_count": null,
   "id": "d49089ae",
   "metadata": {},
   "outputs": [],
   "source": [
    "\n",
    "from elevenlabs import Voice, play, save, stream, set_api_key, generate\n",
    "\n",
    "# Set your ElevenLabs API key\n",
    "set_api_key(\"your-elevenlabs-api-key\")  # Replace with your key\n"
   ]
  },
  {
   "cell_type": "code",
   "execution_count": null,
   "id": "d6cf9ccc",
   "metadata": {},
   "outputs": [],
   "source": [
    "\n",
    "# Generate audio\n",
    "audio = generate(\n",
    "    text=\"Hello, this is AGI Voice Assistant speaking!\",\n",
    "    voice=Voice(\n",
    "        voice_id=\"EXAVITQu4vr4xnSDxMaL\",  # Rachel's voice ID\n",
    "        stability=0.75,\n",
    "        similarity_boost=0.75\n",
    "    ),\n",
    "    model=\"eleven_multilingual_v2\"\n",
    ")\n",
    "\n",
    "# Save audio to file\n",
    "save(audio, \"output_voice.mp3\")\n",
    "print(\"Voice saved as output_voice.mp3\")\n"
   ]
  },
  {
   "cell_type": "code",
   "execution_count": null,
   "id": "1e04b61d",
   "metadata": {},
   "outputs": [],
   "source": [
    "\n",
    "# Play audio in Kaggle notebook\n",
    "import IPython.display as ipd\n",
    "ipd.Audio(\"output_voice.mp3\")\n"
   ]
  }
 ],
 "metadata": {},
 "nbformat": 4,
 "nbformat_minor": 5
}
